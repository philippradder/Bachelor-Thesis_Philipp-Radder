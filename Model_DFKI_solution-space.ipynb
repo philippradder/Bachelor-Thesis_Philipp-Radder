{
 "cells": [
  {
   "cell_type": "markdown",
   "id": "a0f3752a",
   "metadata": {},
   "source": [
    "## Evaluation of the Solution Space under different conditions"
   ]
  },
  {
   "cell_type": "code",
   "execution_count": null,
   "id": "0a2d40f9",
   "metadata": {},
   "outputs": [],
   "source": [
    "# Ensure necessary packages are installed\n",
    "!pip install cobra efmtool numpy pandas scipy"
   ]
  },
  {
   "cell_type": "markdown",
   "id": "7df57dd9",
   "metadata": {},
   "source": [
    "COBRApy definition of the DFKI toy network"
   ]
  },
  {
   "cell_type": "code",
   "execution_count": 1,
   "id": "44857aaa",
   "metadata": {},
   "outputs": [
    {
     "name": "stdout",
     "output_type": "stream",
     "text": [
      "Reaktionen im Modell: 20\n",
      "Metaboliten im Modell: 21\n",
      "Gene im Modell: 0\n"
     ]
    }
   ],
   "source": [
    "import cobra\n",
    "from cobra import Model, Reaction, Metabolite\n",
    "\n",
    "# Modell erstellen\n",
    "model = Model('Toy_Model')\n",
    "\n",
    "# Metaboliten erstellen\n",
    "A_EX = Metabolite('A_EX', compartment='e')\n",
    "A = Metabolite('A', compartment='c')\n",
    "B = Metabolite('B', compartment='c')\n",
    "D = Metabolite('D', compartment='c')\n",
    "E = Metabolite('E', compartment='c')\n",
    "E_EX = Metabolite('E_EX', compartment='e')\n",
    "F = Metabolite('F', compartment='c')\n",
    "G = Metabolite('G', compartment='c')\n",
    "H = Metabolite('H', compartment='c')\n",
    "I = Metabolite('I', compartment='c')\n",
    "J = Metabolite('J', compartment='c')\n",
    "K = Metabolite('K', compartment='c')\n",
    "L = Metabolite('L', compartment='c')\n",
    "L_EX = Metabolite('L_EX', compartment='e')\n",
    "M = Metabolite('M', compartment='c')\n",
    "M_EX = Metabolite('M_EX', compartment='e')\n",
    "N = Metabolite('N', compartment='c')\n",
    "N_EX = Metabolite('N_EX', compartment='e')\n",
    "O = Metabolite('O', compartment='c')\n",
    "P = Metabolite('P', compartment='c')\n",
    "P_EX = Metabolite('P_EX', compartment='e')\n",
    "\n",
    "# Reaktionen erstellen\n",
    "a_in = Reaction('A_in')\n",
    "a_in.name = 'A_EX to A'\n",
    "a_in.add_metabolites({A_EX: -1, A: 1})\n",
    "\n",
    "reaction1 = Reaction('R1')\n",
    "reaction1.name = 'A and G to B'\n",
    "reaction1.add_metabolites({A: -1, G: -1, B: 1})\n",
    "\n",
    "reaction2 = Reaction('R2')\n",
    "reaction2.name = 'B to D'\n",
    "reaction2.add_metabolites({B: -1, D: 1})\n",
    "\n",
    "reaction3 = Reaction('R3')\n",
    "reaction3.name = 'D to E and F'\n",
    "reaction3.add_metabolites({D: -1, E: 1, F: 1})\n",
    "\n",
    "reaction4 = Reaction('R4')\n",
    "reaction4.name = 'B to I'\n",
    "reaction4.add_metabolites({B: -1, I: 1})\n",
    "reaction4.lower_bound= -1000.0\n",
    "\n",
    "reaction5 = Reaction('R5')\n",
    "reaction5.name = 'I to M and J'\n",
    "reaction5.add_metabolites({I: -1, M: 1, J: 1})\n",
    "reaction5.lower_bound= -1000.0\n",
    "\n",
    "reaction6 = Reaction('R6')\n",
    "reaction6.name = 'O to P and J'\n",
    "reaction6.add_metabolites({O: -1, J: 1, P: 1})\n",
    "reaction6.lower_bound= -1000.0\n",
    "\n",
    "reaction7 = Reaction('R7')\n",
    "reaction7.name = 'H to K and L'\n",
    "reaction7.add_metabolites({H: -1, K: 1, L: 1})\n",
    "reaction7.lower_bound= -1000.0\n",
    "\n",
    "reaction8 = Reaction('R8')\n",
    "reaction8.name = 'K and M to N'\n",
    "reaction8.add_metabolites({K: -1, M: -1, N: 1})\n",
    "\n",
    "reaction9 = Reaction('R9')\n",
    "reaction9.name = 'A and J to I'\n",
    "reaction9.add_metabolites({A: -1, J: -1, I: 1})\n",
    "reaction9.lower_bound= -1000.0\n",
    "\n",
    "reaction10 = Reaction('R10')\n",
    "reaction10.name = 'F to G'\n",
    "reaction10.add_metabolites({F: -1, G: 1})\n",
    "\n",
    "reaction11 = Reaction('R11')\n",
    "reaction11.name = 'E to H'\n",
    "reaction11.add_metabolites({E: -1, H: 1})\n",
    "reaction11.lower_bound= -1000.0\n",
    "\n",
    "reaction12 = Reaction('R12')\n",
    "reaction12.name = 'I to P'\n",
    "reaction12.add_metabolites({I: -1, P: 1})\n",
    "reaction12.lower_bound= -1000.0\n",
    "\n",
    "reaction13 = Reaction('R13')\n",
    "reaction13.name = 'O to M and L'\n",
    "reaction13.add_metabolites({O: -1, M: 1, L: 1})\n",
    "reaction13.lower_bound= -1000.0\n",
    "\n",
    "reaction14 = Reaction('R14')\n",
    "reaction14.name = 'P to K'\n",
    "reaction14.add_metabolites({P: -1, K: 1})\n",
    "reaction14.lower_bound= -1000.0\n",
    "\n",
    "\n",
    "E_EX_out = Reaction('E_EX_out')\n",
    "E_EX_out.name = 'E to E_EX'\n",
    "E_EX_out.add_metabolites({E: -1, E_EX: 1})\n",
    "\n",
    "L_EX_out = Reaction('L_EX_out')\n",
    "L_EX_out.name = 'L to L_EX'\n",
    "L_EX_out.add_metabolites({L: -1, L_EX: 1})\n",
    "\n",
    "M_EX_out = Reaction('M_EX_out')\n",
    "M_EX_out.name = 'M to M_EX'\n",
    "M_EX_out.add_metabolites({M: -1, M_EX: 1})\n",
    "\n",
    "N_EX_out = Reaction('N_EX_out')\n",
    "N_EX_out.name = 'N to N_EX'\n",
    "N_EX_out.add_metabolites({N: -1, N_EX: 1})\n",
    "\n",
    "P_EX_out = Reaction('P_EX_out')\n",
    "P_EX_out.name = 'P to P_EX'\n",
    "P_EX_out.add_metabolites({P: -1, P_EX: 1})\n",
    "\n",
    "# Reaktionen zum Modell hinzufügen\n",
    "model.add_reactions([a_in, reaction1, reaction2, reaction3, reaction4, reaction5, \n",
    "                     reaction6, reaction7, reaction8, reaction9, reaction10,\n",
    "                     reaction11, reaction12, reaction13, reaction14, E_EX_out, L_EX_out, M_EX_out, N_EX_out, P_EX_out])\n",
    "\n",
    "\n",
    "\n",
    "# Modellinformationen ausgeben\n",
    "print(\"Reaktionen im Modell:\", len(model.reactions))\n",
    "print(\"Metaboliten im Modell:\", len(model.metabolites))\n",
    "print(\"Gene im Modell:\", len(model.genes))\n"
   ]
  },
  {
   "cell_type": "code",
   "execution_count": 2,
   "id": "c4e1cd57",
   "metadata": {},
   "outputs": [],
   "source": [
    "import numpy as np\n",
    "import cobra\n",
    "\n",
    "\n",
    "def get_stoichiometric_matrix(model):\n",
    "    # Filtere die Reaktionen, um nur Reaktionen zu behalten, die nicht mit \"EX_\" beginnen\n",
    "    internal_reactions = [rxn for rxn in model.reactions if not rxn.id.startswith(\"EX_\")]\n",
    "\n",
    "    # Extrahiere die Metaboliten aus dem Modell\n",
    "    internal_metabolites = [meta for meta in model.metabolites if not meta.compartment == 'e']\n",
    "\n",
    "    # Erstelle die leere Stöchiometrie-Matrix mit (Anzahl der Metaboliten, Anzahl der internen Reaktionen)\n",
    "    stoichiometric_matrix = np.zeros((len(internal_metabolites), len(internal_reactions)))\n",
    "\n",
    "    # Befülle die Stöchiometrie-Matrix so, dass jede Spalte eine Reaktion repräsentiert\n",
    "    for j, rxn in enumerate(internal_reactions):  # Spaltenweise über Reaktionen iterieren\n",
    "        for i, met in enumerate(internal_metabolites):  # Zeilenweise über Metaboliten iterieren\n",
    "            stoichiometric_matrix[i, j] = rxn.metabolites.get(met, 0)  # Falls Metabolit nicht in der Reaktion ist, wird 0 zurückgegeben\n",
    "    return stoichiometric_matrix\n"
   ]
  },
  {
   "cell_type": "code",
   "execution_count": 4,
   "id": "5b5ae35e",
   "metadata": {},
   "outputs": [],
   "source": [
    "# Liste der experimentellen Datenpunkten mit eingefügten 0 für Produkte, die nicht erzeugt werden.\n",
    "experimental_data_zeropadded_out = [\n",
    "    {'A_in':1.0, 'N_EX_out': 0.5, 'E_EX_out': 0.0, 'P_EX_out': 0.0, 'L_EX_out': 0.0, 'M_EX_out': 0.0},\n",
    "    {'A_in':1.0, 'N_EX_out': 0.0, 'E_EX_out': 1.0, 'P_EX_out': 0.0, 'L_EX_out': 0.0, 'M_EX_out': 0.0},\n",
    "    {'A_in':1.0, 'N_EX_out': 0.0, 'E_EX_out': 0.0, 'P_EX_out': 1.0, 'L_EX_out': 1.0, 'M_EX_out': 0.0},\n",
    "    {'A_in':1.0, 'N_EX_out': 0.5, 'E_EX_out': 0.0, 'P_EX_out': 0.0, 'L_EX_out': 2.0, 'M_EX_out': 0.0},\n",
    "    {'A_in':1.0, 'N_EX_out': 0.0, 'E_EX_out': 0.0, 'P_EX_out': 0.0, 'L_EX_out': 3.0, 'M_EX_out': 1.0},\n",
    "    {'A_in':1.0, 'N_EX_out': 0.0, 'E_EX_out': 0.0, 'P_EX_out': 0.0, 'L_EX_out': 0.0, 'M_EX_out': 1.0},\n",
    "    {'A_in':1.0, 'N_EX_out': 0.0, 'E_EX_out': 0.0, 'P_EX_out': 0.0, 'L_EX_out': 1.5, 'M_EX_out': 1.0},\n",
    "    {'A_in':1.0, 'N_EX_out': 0.5, 'E_EX_out': 0.0, 'P_EX_out': 0.0, 'L_EX_out': 1.25, 'M_EX_out': 0.0},\n",
    "    {'A_in':1.0, 'N_EX_out': 0.0, 'E_EX_out': 0.0, 'P_EX_out': 1.0, 'L_EX_out': 0.0, 'M_EX_out': 0.0},\n",
    "    {'A_in':1.0, 'N_EX_out': 0.5, 'E_EX_out': 0.0, 'P_EX_out': 0.0, 'L_EX_out': 0.5, 'M_EX_out': 0.0},\n",
    "    {'A_in':1.0, 'N_EX_out': 0.25, 'E_EX_out': 0.0, 'P_EX_out': 0.5, 'L_EX_out': 0.0, 'M_EX_out': 0.0}\n",
    "]"
   ]
  },
  {
   "cell_type": "code",
   "execution_count": 31,
   "id": "1a920284",
   "metadata": {},
   "outputs": [
    {
     "name": "stdout",
     "output_type": "stream",
     "text": [
      "(7.084858411749409e-08, 11)\n"
     ]
    }
   ],
   "source": [
    "import numpy as np\n",
    "from scipy.optimize import lsq_linear\n",
    "from scipy.optimize import minimize\n",
    "\n",
    "\n",
    "\n",
    "\n",
    "\n",
    "#print(reaction_ids)\n",
    "# Funktion zur Ableitung des Zielvektors aus den experimentellen Daten\n",
    "def create_target_vector(data_point, reaction_ids):\n",
    "    target_flux = np.full(len(reaction_ids), np.nan)  # Vektor mit NaN initialisieren\n",
    "    for rxn_id, value in data_point.items():\n",
    "        if rxn_id in reaction_ids:  # Nur Reaktionen, die im Modell existieren\n",
    "            idx = reaction_ids.index(rxn_id)\n",
    "            target_flux[idx] = value  # Setze den Zielwert\n",
    "    return target_flux\n",
    "\n",
    "\n",
    "def least_square_min(model, S, experimental_data):\n",
    "    reaction_ids = [rxn.id for rxn in model.reactions if not rxn.id.startswith(\"EX_\")]\n",
    "    total_score = 0.0\n",
    "    successful_optimizations = 0\n",
    "\n",
    "    for data_point in experimental_data:\n",
    "        # Zielvektor für aktuellen Datenpunkt erstellen\n",
    "        target_flux = create_target_vector(data_point, reaction_ids)\n",
    "\n",
    "        # Filter für bekannte Flüsse (Reaktionen, die in 'target_flux' nicht NaN sind)\n",
    "        known_flux_indices = ~np.isnan(target_flux)\n",
    "        target_flux_values = target_flux[known_flux_indices]\n",
    "\n",
    "        def objective(x):\n",
    "            return np.linalg.norm(x[known_flux_indices] - target_flux_values)\n",
    "\n",
    "        constraints = {'type': 'eq', 'fun': lambda x: np.dot(S, x)}\n",
    "\n",
    "        initial_guess = np.zeros(len(reaction_ids))\n",
    "        bounds = [(model.reactions.get_by_id(rxn_id).lower_bound,\n",
    "                   model.reactions.get_by_id(rxn_id).upper_bound)\n",
    "                  for rxn_id in reaction_ids]\n",
    "\n",
    "        result = minimize(objective, initial_guess, constraints=constraints, bounds=bounds, tol=1e-10)\n",
    "\n",
    "        if result.success:\n",
    "            optimized_flux = result.x\n",
    "            total_score += np.linalg.norm(optimized_flux[known_flux_indices] - target_flux_values)\n",
    "            successful_optimizations += 1\n",
    "        else:\n",
    "            print(f\"Optimization failed for data point: {data_point}. Message: {result.message}\")\n",
    "\n",
    "    # Return None if any optimization failed, otherwise the total score\n",
    "    if successful_optimizations < len(experimental_data):\n",
    "        return 0.0, len(experimental_data)\n",
    "    else:\n",
    "        return total_score, len(experimental_data)\n",
    "\n",
    " \n",
    "S = get_stoichiometric_matrix(model)\n",
    "print(least_square_min(model, S, experimental_data_zeropadded_out))"
   ]
  },
  {
   "cell_type": "code",
   "execution_count": 76,
   "id": "c84f48c5",
   "metadata": {},
   "outputs": [
    {
     "name": "stdout",
     "output_type": "stream",
     "text": [
      "\n",
      "Total number of random reactions generated: 2000\n"
     ]
    }
   ],
   "source": [
    "import random\n",
    "from cobra import Reaction\n",
    "\n",
    "# Erstellen von Reaktionen mit 1-2 Substrat(en) und 1-2 Produkt(en)\n",
    "def generate_random_reactions(model, num_reactions=2000):\n",
    "    # Filter out metabolites that end with '_EX'\n",
    "    metabolites = [met for met in model.metabolites if not met.compartment == 'e']\n",
    "    random_reactions = []\n",
    "\n",
    "    for i in range(num_reactions):\n",
    "        reaction_valid = False\n",
    "\n",
    "        while not reaction_valid:\n",
    "            # Zufällige Auswahl der Anzahl an Substraten und Produkten\n",
    "            num_reactants = random.randint(1, 2)\n",
    "            num_products = random.randint(1, 2)\n",
    "\n",
    "            # Zufällige Auswahl der Substrate und Produkte\n",
    "            reactants = random.sample(metabolites, num_reactants)\n",
    "            products = random.sample(metabolites, num_products)\n",
    "\n",
    "            # Check, dass auf beiden Seiten Metaboliten vorhanden sind\n",
    "            if set(reactants).isdisjoint(set(products)):\n",
    "                reaction_valid = True\n",
    "\n",
    "                # Erstellung der Reaktion\n",
    "                reaction = Reaction(f'Random_Rxn_{i+1}')\n",
    "                reaction.name = f'Random Reaction {i+1}'\n",
    "\n",
    "                reaction.add_metabolites({\n",
    "                    met: -1.0 for met in reactants\n",
    "                })\n",
    "                reaction.add_metabolites({\n",
    "                    met: 1.0 for met in products\n",
    "                })\n",
    "\n",
    "                # 50% Chance, die Reaktion reversibel zu machen\n",
    "                if random.random() < 0.5:\n",
    "                    reaction.lower_bound = -1000.0\n",
    "                else:\n",
    "                    reaction.lower_bound = 0.0\n",
    "\n",
    "                reaction.upper_bound = 1000.0\n",
    "\n",
    "                random_reactions.append(reaction)\n",
    "\n",
    "    return random_reactions\n"
   ]
  },
  {
   "cell_type": "code",
   "execution_count": 33,
   "id": "4567fc2a",
   "metadata": {},
   "outputs": [],
   "source": [
    "import cobra\n",
    "import random\n",
    "\n",
    "def sample_reactions(model, n_reactions):\n",
    "  \n",
    "    # Filter reactions that do not end with '_in' or '_out'\n",
    "    valid_reactions = [rxn for rxn in model.reactions if not rxn.id.endswith('_in') and not rxn.id.endswith('_out')]\n",
    "\n",
    "    # Ensure that the model has enough valid reactions\n",
    "    if n_reactions > len(valid_reactions):\n",
    "        raise ValueError(\"Requested number of reactions exceeds the total number of valid reactions in the model\")\n",
    "\n",
    "    # Sample reactions randomly from the valid reactions list\n",
    "    sampled_reactions = random.sample(valid_reactions, n_reactions)\n",
    "\n",
    "    for rxn in sampled_reactions:\n",
    "        print(rxn.id)\n",
    "    \n",
    "    return sampled_reactions\n"
   ]
  },
  {
   "cell_type": "code",
   "execution_count": 34,
   "id": "e9c6dc6a",
   "metadata": {},
   "outputs": [],
   "source": [
    "import random\n",
    "\n",
    "def sample_reactions_from_list(reactions_list, n_reactions):\n",
    "  \n",
    "    # Ensure the list has enough reactions to sample from\n",
    "    if n_reactions > len(reactions_list):\n",
    "        raise ValueError(\"Requested number of reactions exceeds the total number of reactions in the list\")\n",
    "\n",
    "    # Sample reactions randomly from the given list\n",
    "    sampled_reactions = random.sample(reactions_list, n_reactions)\n",
    "\n",
    "    for rxn in sampled_reactions:\n",
    "        print(rxn.id if hasattr(rxn, 'id') else rxn)  # Print the ID if the object has one\n",
    "\n",
    "    return sampled_reactions\n"
   ]
  },
  {
   "cell_type": "code",
   "execution_count": 35,
   "id": "4ca36db6",
   "metadata": {},
   "outputs": [],
   "source": [
    "def model_edit_distance(model1, model2):\n",
    "   \n",
    "    # Get sets of reaction IDs for both models\n",
    "    reactions_model1 = {rxn.id for rxn in model1.reactions}\n",
    "    reactions_model2 = {rxn.id for rxn in model2.reactions}\n",
    "    \n",
    "    # Calculate the symmetric difference (reactions present in one model but not the other)\n",
    "    differing_reactions = reactions_model1.symmetric_difference(reactions_model2)\n",
    "    \n",
    "    # The edit distance is the number of differing reactions\n",
    "    edit_distance = len(differing_reactions)\n",
    "    \n",
    "    return edit_distance\n",
    "\n"
   ]
  },
  {
   "cell_type": "code",
   "execution_count": 36,
   "id": "4e3b1cb9",
   "metadata": {},
   "outputs": [],
   "source": [
    "import pandas as pd\n",
    "\n",
    "def filter_and_display(list1, list2, list3):\n",
    " \n",
    "    # Erstellen des DataFrames\n",
    "    df = pd.DataFrame({'Scores': list1, 'Edit Distances': list2, 'Computation Count': list3})\n",
    "    \n",
    "    # Filtern: Entfernen von Zeilen mit NaN oder 0.0 in der ersten Liste\n",
    "    filtered_df = df.dropna(subset=['Scores'])\n",
    "    filtered_df = filtered_df[filtered_df['Scores'] != 0.0]\n",
    "    \n",
    "    # Ergebnis zurückgeben oder anzeigen\n",
    "    return filtered_df\n",
    "\n",
    "\n"
   ]
  },
  {
   "cell_type": "code",
   "execution_count": null,
   "id": "8762f703",
   "metadata": {},
   "outputs": [],
   "source": []
  },
  {
   "cell_type": "markdown",
   "id": "6fa4348c",
   "metadata": {},
   "source": [
    "## Generation of data points using sampling"
   ]
  },
  {
   "cell_type": "code",
   "execution_count": 37,
   "id": "72daf3b5",
   "metadata": {},
   "outputs": [],
   "source": [
    "import cobra\n",
    "from cobra.sampling import sample\n",
    "\n",
    "import pandas as pd\n",
    "\n",
    "\n",
    "# Function to normalize a row based on A_in, excluding boundary reactions\n",
    "def normalize_row(row, normalization_id):\n",
    "    normalization_factor = row[normalization_id]\n",
    "    # Exclude boundary reactions (columns starting with \"EX_\" or ending with \"_out\")\n",
    "    filtered_row = {col: value for col, value in row.items() if (col.endswith(\"_in\") or col.endswith(\"_out\"))}\n",
    "    return {col: (value / normalization_factor) if normalization_factor != 0 else 0.0\n",
    "            for col, value in filtered_row.items()}\n",
    "\n",
    "\n",
    "def create_synthetic_datapoints(model, amount, normalization_id):\n",
    "    s = sample(model, amount)\n",
    "    \n",
    "    normalized_data = [normalize_row(row, normalization_id) for _, row in s.iterrows()]\n",
    "    \n",
    "    return normalized_data"
   ]
  },
  {
   "cell_type": "code",
   "execution_count": 38,
   "id": "3f367d18",
   "metadata": {},
   "outputs": [
    {
     "data": {
      "text/html": [
       "\n",
       "        <table>\n",
       "            <tr>\n",
       "                <td><strong>Reaction identifier</strong></td><td>EX_P_EX</td>\n",
       "            </tr><tr>\n",
       "                <td><strong>Name</strong></td><td>exchange</td>\n",
       "            </tr><tr>\n",
       "                <td><strong>Memory address</strong></td>\n",
       "                <td>0x15a2868d0</td>\n",
       "            </tr><tr>\n",
       "                <td><strong>Stoichiometry</strong></td>\n",
       "                <td>\n",
       "                    <p style='text-align:right'>P_EX <=></p>\n",
       "                    <p style='text-align:right'><=></p>\n",
       "                </td>\n",
       "            </tr><tr>\n",
       "                <td><strong>GPR</strong></td><td></td>\n",
       "            </tr><tr>\n",
       "                <td><strong>Lower bound</strong></td><td>-1000.0</td>\n",
       "            </tr><tr>\n",
       "                <td><strong>Upper bound</strong></td><td>1000.0</td>\n",
       "            </tr>\n",
       "        </table>\n",
       "        "
      ],
      "text/plain": [
       "<Reaction EX_P_EX at 0x15a2868d0>"
      ]
     },
     "execution_count": 38,
     "metadata": {},
     "output_type": "execute_result"
    }
   ],
   "source": [
    "#Declaration of exchange reactions, since they are needed to sample flux distributions\n",
    "\n",
    "model_data_gen = model.copy()\n",
    "\n",
    "# Exchange reactions for extracellular metabolites\n",
    "model_data_gen.add_boundary(A_EX, type=\"exchange\")\n",
    "model_data_gen.add_boundary(E_EX, type=\"exchange\")\n",
    "model_data_gen.add_boundary(L_EX, type=\"exchange\")\n",
    "model_data_gen.add_boundary(M_EX, type=\"exchange\")\n",
    "model_data_gen.add_boundary(N_EX, type=\"exchange\")\n",
    "model_data_gen.add_boundary(P_EX, type=\"exchange\")"
   ]
  },
  {
   "cell_type": "code",
   "execution_count": 39,
   "id": "caeb4f33",
   "metadata": {},
   "outputs": [],
   "source": [
    "import cobra\n",
    "\n",
    "def check_for_deadends(model):    \n",
    "\n",
    "    # Lists for results\n",
    "    upstream_no_consumption_roots = []\n",
    "    downstream_no_production_roots = []\n",
    "\n",
    "    # Initialize dictionaries for production and consumption of metabolites\n",
    "    metabolite_produced = {met: False for met in model.metabolites if met.compartment == 'c'}\n",
    "    metabolite_consumed = {met: False for met in model.metabolites if met.compartment == 'c'}\n",
    "\n",
    "    # Iterate over all reactions in the model\n",
    "    for reaction in model.reactions:\n",
    "        if reaction.reversibility:\n",
    "            #print(reaction)\n",
    "            # If reversible, treat all metabolites as both reactants and products\n",
    "            for met in reaction.metabolites:\n",
    "                metabolite_produced[met] = True\n",
    "                metabolite_consumed[met] = True\n",
    "        else:\n",
    "            # Metabolites produced in this reaction\n",
    "            for product in reaction.products:\n",
    "                #print(reaction.products)\n",
    "                if product.compartment == 'c':  # Only consider intracellular metabolites\n",
    "                    metabolite_produced[product] = True\n",
    "\n",
    "            # Metabolites consumed in this reaction\n",
    "            for reactant in reaction.reactants:\n",
    "                \n",
    "                if reactant.compartment == 'c':  # Only consider intracellular metabolites\n",
    "                    metabolite_consumed[reactant] = True\n",
    "\n",
    "    # Determine Upstream No-Consumption Roots (produced but not consumed)\n",
    "    for met, produced in metabolite_produced.items():\n",
    "        if produced and not metabolite_consumed[met]:\n",
    "            upstream_no_consumption_roots.append(met.id)\n",
    "\n",
    "    # Determine Downstream No-Production Roots (consumed but not produced)\n",
    "    for met, consumed in metabolite_consumed.items():\n",
    "        if consumed and not metabolite_produced[met]:\n",
    "            downstream_no_production_roots.append(met.id)\n",
    "\n",
    "    #print(\"Upstream No-Consumption Roots:\", upstream_no_consumption_roots)\n",
    "    #print(\"Downstream No-Production Roots:\", downstream_no_production_roots)\n",
    "\n",
    "    return len(upstream_no_consumption_roots) + len(downstream_no_production_roots)\n",
    "\n"
   ]
  },
  {
   "cell_type": "code",
   "execution_count": 40,
   "id": "3fb2164b",
   "metadata": {},
   "outputs": [],
   "source": [
    "def filter_datapoints(datapoints, reaction_list):\n",
    "   \n",
    "    ids = [reaction.id for reaction in reaction_list]\n",
    "    \n",
    "    filtered_data = []\n",
    "\n",
    "    for datapoint in datapoints:\n",
    "        filtered_datapoint = {key: value for key, value in datapoint.items() if key in ids}\n",
    "        filtered_data.append(filtered_datapoint)\n",
    "\n",
    "    return filtered_data"
   ]
  },
  {
   "cell_type": "code",
   "execution_count": 41,
   "id": "915b1302",
   "metadata": {},
   "outputs": [],
   "source": [
    "from itertools import combinations\n",
    "\n",
    "def evaluate_reaction_subsets(model, experimental_data, random_reactions, num_removed):\n",
    "  \n",
    "    \n",
    "    threshold = len(experimental_data)/10 * 3e-7\n",
    "    \n",
    "    # Step 1: Remove 2 reactions from the model\n",
    "    model_copy = model.copy()\n",
    "    valid_reactions = [rxn for rxn in model_copy.reactions if not rxn.id.endswith('_in') and not rxn.id.endswith('_out')]\n",
    "    removed_reactions = random.sample(valid_reactions, num_removed)\n",
    "    model_copy.remove_reactions(removed_reactions)\n",
    "    print(model_copy.reactions)\n",
    "\n",
    "    experimental_data = filter_datapoints(experimental_data, model_copy.reactions)\n",
    "    \n",
    "    # Step 2: Assemble reaction pool of reactions that can be added\n",
    "    reaction_pool = removed_reactions + random_reactions\n",
    "\n",
    "    # Step 3: Evaluate subsets of size 2 and 3\n",
    "    adequate_subsets_count = 0\n",
    "    num_subsets_unblocked = 0\n",
    "    for subset_size in [2, 3]:\n",
    "        for subset in combinations(reaction_pool, subset_size):\n",
    "            # Add the subset of reactions to the model\n",
    "            temp_model = model_copy.copy()\n",
    "            temp_model.add_reactions(subset)\n",
    "\n",
    "            # Evaluate the score\n",
    "            S = get_stoichiometric_matrix(temp_model)\n",
    "            score, _ = least_square_min(temp_model, S, experimental_data)\n",
    "            \n",
    "            # Check if the score meets the criteria\n",
    "            if score < threshold and score != 0.0:\n",
    "                adequate_subsets_count += 1\n",
    "            \n",
    "                num_deadends = check_for_deadends(temp_model)\n",
    "                if num_deadends == 0:\n",
    "                    num_subsets_unblocked += 1\n",
    "                \n",
    "    return adequate_subsets_count, num_subsets_unblocked\n",
    "\n",
    "\n",
    "\n"
   ]
  },
  {
   "cell_type": "code",
   "execution_count": 77,
   "id": "1d41979c",
   "metadata": {},
   "outputs": [],
   "source": [
    "random.seed(42)\n",
    "np.random.seed(42)"
   ]
  },
  {
   "cell_type": "code",
   "execution_count": 78,
   "id": "2bd1f96b",
   "metadata": {},
   "outputs": [],
   "source": [
    "test_random_reacs = generate_random_reactions(model, 13)\n",
    "#remove_reacs = sample_reactions(model, 2)"
   ]
  },
  {
   "cell_type": "code",
   "execution_count": 79,
   "id": "a9c4ee58",
   "metadata": {},
   "outputs": [],
   "source": [
    "random.seed(42)\n",
    "np.random.seed(42)"
   ]
  },
  {
   "cell_type": "code",
   "execution_count": 80,
   "id": "286e7522",
   "metadata": {},
   "outputs": [],
   "source": [
    "synth_data20 = create_synthetic_datapoints(model_data_gen, 20, \"A_in\")"
   ]
  },
  {
   "cell_type": "code",
   "execution_count": 81,
   "id": "11c36937",
   "metadata": {},
   "outputs": [],
   "source": [
    "random.seed(42)\n",
    "np.random.seed(42)"
   ]
  },
  {
   "cell_type": "code",
   "execution_count": 82,
   "id": "6734c28d",
   "metadata": {},
   "outputs": [],
   "source": [
    "synth_data100 = create_synthetic_datapoints(model_data_gen, 100, \"A_in\")"
   ]
  },
  {
   "cell_type": "code",
   "execution_count": 83,
   "id": "646262e7",
   "metadata": {},
   "outputs": [],
   "source": [
    "random.seed(42)\n",
    "np.random.seed(42)"
   ]
  },
  {
   "cell_type": "code",
   "execution_count": 84,
   "id": "e99431d5",
   "metadata": {},
   "outputs": [],
   "source": [
    "synth_data500 = create_synthetic_datapoints(model_data_gen, 500, \"A_in\")"
   ]
  },
  {
   "cell_type": "markdown",
   "id": "abf5ed66",
   "metadata": {},
   "source": [
    "## Evaluating number of adequate subsets for different experimental data"
   ]
  },
  {
   "cell_type": "code",
   "execution_count": 85,
   "id": "b78c8973",
   "metadata": {},
   "outputs": [],
   "source": [
    "random.seed(17)\n",
    "np.random.seed(17)"
   ]
  },
  {
   "cell_type": "code",
   "execution_count": 86,
   "id": "a7d6e396",
   "metadata": {
    "scrolled": true
   },
   "outputs": [
    {
     "name": "stdout",
     "output_type": "stream",
     "text": [
      "[<Reaction A_in at 0x159513050>, <Reaction R1 at 0x1595132d0>, <Reaction R2 at 0x159513450>, <Reaction R3 at 0x159513c90>, <Reaction R4 at 0x159512e50>, <Reaction R5 at 0x159513ed0>, <Reaction R6 at 0x1595125d0>, <Reaction R8 at 0x159513d10>, <Reaction R10 at 0x159512990>, <Reaction R11 at 0x159510c50>, <Reaction R12 at 0x159512bd0>, <Reaction R13 at 0x159511ad0>, <Reaction R14 at 0x159510250>, <Reaction E_EX_out at 0x159513810>, <Reaction L_EX_out at 0x159512b50>, <Reaction M_EX_out at 0x159512610>, <Reaction N_EX_out at 0x159510f90>, <Reaction P_EX_out at 0x159512690>]\n"
     ]
    }
   ],
   "source": [
    "num_adequate_subsets_efm, num_unblocked_efm = evaluate_reaction_subsets(model, experimental_data_zeropadded_out, test_random_reacs, 2)"
   ]
  },
  {
   "cell_type": "code",
   "execution_count": 87,
   "id": "f3053392",
   "metadata": {},
   "outputs": [
    {
     "name": "stdout",
     "output_type": "stream",
     "text": [
      "Number of subsets with adequate scores: 113\n",
      "Number of unblocked models: 113\n"
     ]
    }
   ],
   "source": [
    "print(f\"Number of subsets with adequate scores: {num_adequate_subsets_efm}\")\n",
    "print(f\"Number of unblocked models: {num_unblocked_efm}\")"
   ]
  },
  {
   "cell_type": "code",
   "execution_count": 88,
   "id": "878cd57f",
   "metadata": {},
   "outputs": [],
   "source": [
    "random.seed(17)\n",
    "np.random.seed(17)"
   ]
  },
  {
   "cell_type": "code",
   "execution_count": 89,
   "id": "7058bae0",
   "metadata": {},
   "outputs": [
    {
     "name": "stdout",
     "output_type": "stream",
     "text": [
      "[<Reaction A_in at 0x299ab1490>, <Reaction R1 at 0x299ab3f90>, <Reaction R2 at 0x299ab1990>, <Reaction R3 at 0x29996fd90>, <Reaction R4 at 0x29996df10>, <Reaction R5 at 0x29996e190>, <Reaction R6 at 0x29996e290>, <Reaction R8 at 0x29917b310>, <Reaction R10 at 0x15731b710>, <Reaction R11 at 0x157318e10>, <Reaction R12 at 0x299060e90>, <Reaction R13 at 0x16e3af010>, <Reaction R14 at 0x1577d2b50>, <Reaction E_EX_out at 0x15785a890>, <Reaction L_EX_out at 0x15785a650>, <Reaction M_EX_out at 0x157858450>, <Reaction N_EX_out at 0x16e40a950>, <Reaction P_EX_out at 0x16e408b50>]\n",
      "Number of subsets with adequate scores: 117\n",
      "Number of unblocked models: 117\n"
     ]
    }
   ],
   "source": [
    "num_adequate_subsets20, num_unblocked_20 = evaluate_reaction_subsets(model, synth_data20, test_random_reacs, 2)\n",
    "print(f\"Number of subsets with adequate scores: {num_adequate_subsets20}\")\n",
    "print(f\"Number of unblocked models: {num_unblocked_20}\")"
   ]
  },
  {
   "cell_type": "code",
   "execution_count": 90,
   "id": "e5e513cb",
   "metadata": {},
   "outputs": [],
   "source": [
    "random.seed(17)\n",
    "np.random.seed(17)"
   ]
  },
  {
   "cell_type": "code",
   "execution_count": 91,
   "id": "1fe67a00",
   "metadata": {},
   "outputs": [
    {
     "name": "stdout",
     "output_type": "stream",
     "text": [
      "[<Reaction A_in at 0x15a32df50>, <Reaction R1 at 0x15a32e350>, <Reaction R2 at 0x15a32fad0>, <Reaction R3 at 0x15a32f150>, <Reaction R4 at 0x15a32cd10>, <Reaction R5 at 0x15a32d290>, <Reaction R6 at 0x157f61650>, <Reaction R8 at 0x1578fda10>, <Reaction R10 at 0x157fb7f10>, <Reaction R11 at 0x15944e3d0>, <Reaction R12 at 0x15944c710>, <Reaction R13 at 0x15944d910>, <Reaction R14 at 0x15944cfd0>, <Reaction E_EX_out at 0x15944c850>, <Reaction L_EX_out at 0x15944dfd0>, <Reaction M_EX_out at 0x15a3bde10>, <Reaction N_EX_out at 0x15a3bd010>, <Reaction P_EX_out at 0x15a3bfb50>]\n",
      "Number of subsets with adequate scores: 116\n",
      "Number of unblocked models: 116\n"
     ]
    }
   ],
   "source": [
    "num_adequate_subsets100, num_unblocked_100 = evaluate_reaction_subsets(model, synth_data100, test_random_reacs, 2)\n",
    "print(f\"Number of subsets with adequate scores: {num_adequate_subsets100}\")\n",
    "print(f\"Number of unblocked models: {num_unblocked_100}\")"
   ]
  },
  {
   "cell_type": "code",
   "execution_count": 92,
   "id": "6f3ecc4e",
   "metadata": {},
   "outputs": [],
   "source": [
    "random.seed(17)\n",
    "np.random.seed(17)"
   ]
  },
  {
   "cell_type": "code",
   "execution_count": 93,
   "id": "eca8dd71",
   "metadata": {},
   "outputs": [
    {
     "name": "stdout",
     "output_type": "stream",
     "text": [
      "[<Reaction A_in at 0x157753050>, <Reaction R1 at 0x15a0a1810>, <Reaction R2 at 0x15a0a1cd0>, <Reaction R3 at 0x15a0028d0>, <Reaction R4 at 0x15a010850>, <Reaction R5 at 0x15a0f3010>, <Reaction R6 at 0x15a0f3a10>, <Reaction R8 at 0x15a09d450>, <Reaction R10 at 0x15a09d350>, <Reaction R11 at 0x15a09fc50>, <Reaction R12 at 0x15a09f790>, <Reaction R13 at 0x15a09f750>, <Reaction R14 at 0x15a09f890>, <Reaction E_EX_out at 0x15a09fc10>, <Reaction L_EX_out at 0x15a09fe50>, <Reaction M_EX_out at 0x15a09d810>, <Reaction N_EX_out at 0x15a09d950>, <Reaction P_EX_out at 0x15a09da50>]\n",
      "Number of subsets with adequate scores: 116\n",
      "Number of unblocked models: 116\n"
     ]
    }
   ],
   "source": [
    "num_adequate_subsets500, num_unblocked_500 = evaluate_reaction_subsets(model, synth_data500, test_random_reacs, 2)\n",
    "print(f\"Number of subsets with adequate scores: {num_adequate_subsets500}\")\n",
    "print(f\"Number of unblocked models: {num_unblocked_500}\")"
   ]
  },
  {
   "cell_type": "markdown",
   "id": "ecd4e77a",
   "metadata": {},
   "source": [
    "Different Seed"
   ]
  },
  {
   "cell_type": "code",
   "execution_count": 94,
   "id": "74c1cb1c",
   "metadata": {},
   "outputs": [],
   "source": [
    "random.seed(23)\n",
    "np.random.seed(23)"
   ]
  },
  {
   "cell_type": "code",
   "execution_count": 95,
   "id": "9f898295",
   "metadata": {},
   "outputs": [
    {
     "name": "stdout",
     "output_type": "stream",
     "text": [
      "[<Reaction A_in at 0x15a04f910>, <Reaction R1 at 0x15a0ed690>, <Reaction R2 at 0x15a302410>, <Reaction R3 at 0x15a3020d0>, <Reaction R4 at 0x16e3f3090>, <Reaction R6 at 0x15a373710>, <Reaction R7 at 0x15a09b3d0>, <Reaction R8 at 0x15a09ad50>, <Reaction R9 at 0x16e34a310>, <Reaction R10 at 0x16e429ed0>, <Reaction R11 at 0x16e429e10>, <Reaction R12 at 0x16e428a90>, <Reaction R14 at 0x15a0d8110>, <Reaction E_EX_out at 0x15a0db190>, <Reaction L_EX_out at 0x15a0893d0>, <Reaction M_EX_out at 0x15a0894d0>, <Reaction N_EX_out at 0x15a0897d0>, <Reaction P_EX_out at 0x15a08b090>]\n",
      "Number of subsets with adequate scores: 102\n",
      "Number of unblocked models: 102\n"
     ]
    }
   ],
   "source": [
    "num_adequate_subsets_efm23, num_unblocked_efm_23 = evaluate_reaction_subsets(model, experimental_data_zeropadded_out, test_random_reacs, 2)\n",
    "print(f\"Number of subsets with adequate scores: {num_adequate_subsets_efm23}\")\n",
    "print(f\"Number of unblocked models: {num_unblocked_efm_23}\")"
   ]
  },
  {
   "cell_type": "code",
   "execution_count": 96,
   "id": "0afde8b9",
   "metadata": {},
   "outputs": [],
   "source": [
    "random.seed(23)\n",
    "np.random.seed(23)"
   ]
  },
  {
   "cell_type": "code",
   "execution_count": 97,
   "id": "ea3964f0",
   "metadata": {},
   "outputs": [
    {
     "name": "stdout",
     "output_type": "stream",
     "text": [
      "[<Reaction A_in at 0x28f4a0ad0>, <Reaction R1 at 0x28f4a0a50>, <Reaction R2 at 0x28f4a2390>, <Reaction R3 at 0x29930f410>, <Reaction R4 at 0x29930eb10>, <Reaction R6 at 0x29930dbd0>, <Reaction R7 at 0x29930cd10>, <Reaction R8 at 0x29930dc10>, <Reaction R9 at 0x29930f6d0>, <Reaction R10 at 0x29930d410>, <Reaction R11 at 0x29930d290>, <Reaction R12 at 0x29930cf10>, <Reaction R14 at 0x29930f050>, <Reaction E_EX_out at 0x29930f510>, <Reaction L_EX_out at 0x29930c490>, <Reaction M_EX_out at 0x29930e590>, <Reaction N_EX_out at 0x29930ef90>, <Reaction P_EX_out at 0x29930c850>]\n",
      "Number of subsets with adequate scores: 124\n",
      "Number of unblocked models: 124\n"
     ]
    }
   ],
   "source": [
    "num_adequate_subsets20_23, num_unblocked_20_23 = evaluate_reaction_subsets(model, synth_data20, test_random_reacs, 2)\n",
    "print(f\"Number of subsets with adequate scores: {num_adequate_subsets20_23}\")\n",
    "print(f\"Number of unblocked models: {num_unblocked_20_23}\")"
   ]
  },
  {
   "cell_type": "code",
   "execution_count": 98,
   "id": "7073dcf3",
   "metadata": {},
   "outputs": [],
   "source": [
    "random.seed(23)\n",
    "np.random.seed(23)"
   ]
  },
  {
   "cell_type": "code",
   "execution_count": 99,
   "id": "92aa1d32",
   "metadata": {},
   "outputs": [
    {
     "name": "stdout",
     "output_type": "stream",
     "text": [
      "[<Reaction A_in at 0x15a1bf7d0>, <Reaction R1 at 0x15a1be610>, <Reaction R2 at 0x15a1bd810>, <Reaction R3 at 0x15a1bdc10>, <Reaction R4 at 0x15a1bdd50>, <Reaction R6 at 0x15a10fa10>, <Reaction R7 at 0x15a10c650>, <Reaction R8 at 0x15a10ded0>, <Reaction R9 at 0x15a10c8d0>, <Reaction R10 at 0x15a10e5d0>, <Reaction R11 at 0x15a10f350>, <Reaction R12 at 0x15a10e010>, <Reaction R14 at 0x15a10e590>, <Reaction E_EX_out at 0x15a10ca10>, <Reaction L_EX_out at 0x15a10f510>, <Reaction M_EX_out at 0x15a10ccd0>, <Reaction N_EX_out at 0x15a10fc50>, <Reaction P_EX_out at 0x15a10f6d0>]\n",
      "Number of subsets with adequate scores: 111\n",
      "Number of unblocked models: 111\n"
     ]
    }
   ],
   "source": [
    "num_adequate_subsets100_23, num_unblocked_100_23 = evaluate_reaction_subsets(model, synth_data100, test_random_reacs, 2)\n",
    "print(f\"Number of subsets with adequate scores: {num_adequate_subsets100_23}\")\n",
    "print(f\"Number of unblocked models: {num_unblocked_100_23}\")"
   ]
  },
  {
   "cell_type": "code",
   "execution_count": 100,
   "id": "1c22daa4",
   "metadata": {},
   "outputs": [],
   "source": [
    "random.seed(23)\n",
    "np.random.seed(23)"
   ]
  },
  {
   "cell_type": "code",
   "execution_count": 101,
   "id": "7726f72f",
   "metadata": {
    "scrolled": true
   },
   "outputs": [
    {
     "name": "stdout",
     "output_type": "stream",
     "text": [
      "[<Reaction A_in at 0x157caa190>, <Reaction R1 at 0x157ca8bd0>, <Reaction R2 at 0x157ca8fd0>, <Reaction R3 at 0x157cab850>, <Reaction R4 at 0x157cabf90>, <Reaction R6 at 0x157ca8150>, <Reaction R7 at 0x299258a90>, <Reaction R8 at 0x29933ec90>, <Reaction R9 at 0x157caa810>, <Reaction R10 at 0x1596c8610>, <Reaction R11 at 0x157730b10>, <Reaction R12 at 0x157732650>, <Reaction R14 at 0x157730190>, <Reaction E_EX_out at 0x157731850>, <Reaction L_EX_out at 0x157733990>, <Reaction M_EX_out at 0x157730610>, <Reaction N_EX_out at 0x157730a50>, <Reaction P_EX_out at 0x157733e90>]\n",
      "Number of subsets with adequate scores: 94\n",
      "Number of unblocked models: 94\n"
     ]
    }
   ],
   "source": [
    "num_adequate_subsets500_23, num_unblocked_500_23 = evaluate_reaction_subsets(model, synth_data500, test_random_reacs, 2)\n",
    "print(f\"Number of subsets with adequate scores: {num_adequate_subsets500_23}\")\n",
    "print(f\"Number of unblocked models: {num_unblocked_500_23}\")"
   ]
  },
  {
   "cell_type": "code",
   "execution_count": null,
   "id": "1b869692",
   "metadata": {},
   "outputs": [],
   "source": []
  },
  {
   "cell_type": "markdown",
   "id": "176381e3",
   "metadata": {},
   "source": [
    "## Evaluation model reconstruction taking into account internal flux values"
   ]
  },
  {
   "cell_type": "code",
   "execution_count": 102,
   "id": "ece85bf3",
   "metadata": {},
   "outputs": [],
   "source": [
    "import cobra\n",
    "from cobra.sampling import sample\n",
    "\n",
    "import pandas as pd\n",
    "\n",
    "\n",
    "# Function to normalize a row based on a normalization id, excluding boundary reactions\n",
    "def normalize_row_internal(row, normalization_id):\n",
    "    normalization_factor = row[normalization_id]\n",
    "    # Exclude boundary reactions (columns starting with \"EX_\" or ending with \"_out\")\n",
    "    filtered_row = {col: value for col, value in row.items() if not (col.startswith(\"EX_\"))}\n",
    "    return {col: (value / normalization_factor) if normalization_factor != 0 else 0.0\n",
    "            for col, value in filtered_row.items()}\n",
    "\n",
    "\n",
    "def create_synthetic_datapoints_internal(model, amount, normalization_id):\n",
    "    s = sample(model, amount)\n",
    "    \n",
    "    normalized_data = [normalize_row_internal(row, normalization_id) for _, row in s.iterrows()]\n",
    "    \n",
    "    return normalized_data"
   ]
  },
  {
   "cell_type": "code",
   "execution_count": 103,
   "id": "a49ca58e",
   "metadata": {},
   "outputs": [],
   "source": [
    "random.seed(42)\n",
    "np.random.seed(42)"
   ]
  },
  {
   "cell_type": "code",
   "execution_count": 104,
   "id": "ad5bb07a",
   "metadata": {
    "scrolled": true
   },
   "outputs": [
    {
     "name": "stdout",
     "output_type": "stream",
     "text": [
      "[{'A_in': 1.0, 'R1': 1.4099330919526516, 'R2': 1.4099330919526523, 'R3': 1.409933091952652, 'R4': 7.994916532655358e-17, 'R5': 0.05944189885176445, 'R6': -0.46937499080441825, 'R7': 1.1751508703062226, 'R8': 0.23178537303488572, 'R9': -0.4099330919526534, 'R10': 1.409933091952652, 'R11': 1.175150870306222, 'R12': -0.4693749908044184, 'R13': 0.46937499080441836, 'R14': -0.9433654972713353, 'E_EX_out': 0.23478222164642967, 'L_EX_out': 1.6445258611106406, 'M_EX_out': 0.2970315166212973, 'N_EX_out': 0.23178537303488606, 'P_EX_out': 0.004615515662500538}, {'A_in': 1.0, 'R1': 1.0046443576691568, 'R2': 1.0046443576691577, 'R3': 1.0046443576691602, 'R4': 2.72669793894444e-16, 'R5': 0.05064110673095897, 'R6': -0.0552854644001173, 'R7': 0.639597527067702, 'R8': 0.02239804028601917, 'R9': -0.0046443576691575375, 'R10': 1.0046443576691602, 'R11': 0.6395975270677017, 'R12': -0.05528546440011741, 'R13': 0.055285464400117376, 'R14': -0.6171994867816838, 'E_EX_out': 0.3650468306014578, 'L_EX_out': 0.6948829914678185, 'M_EX_out': 0.08352853084505767, 'N_EX_out': 0.0223980402860189, 'P_EX_out': 0.5066285579814486}, {'A_in': 1.0, 'R1': 0.5134488750003683, 'R2': 0.5134488750003701, 'R3': 0.5134488750003718, 'R4': -4.4277645087407614e-16, 'R5': 0.41917687896565303, 'R6': 0.06737424603397603, 'R7': 0.43672447974342826, 'R8': 0.318883006018021, 'R9': 0.48655112499962994, 'R10': 0.5134488750003718, 'R11': 0.43672447974342676, 'R12': 0.0673742460339758, 'R13': -0.0673742460339758, 'R14': -0.11784147372540583, 'E_EX_out': 0.07672439525694462, 'L_EX_out': 0.36935023370944997, 'M_EX_out': 0.0329196269136561, 'N_EX_out': 0.31888300601802133, 'P_EX_out': 0.25258996579335874}, {'A_in': 1.0, 'R1': 1.0995577402526466, 'R2': 1.0995577402526537, 'R3': 1.0995577402526562, 'R4': -3.3676322002300664e-15, 'R5': 0.09594832947553482, 'R6': -0.19550606972818912, 'R7': 0.8471354852183364, 'R8': 0.15456477226111354, 'R9': -0.09955774025265594, 'R10': 1.0995577402526562, 'R11': 0.8471354852183295, 'R12': -0.19550606972818962, 'R13': 0.19550606972818962, 'R14': -0.6925707129572138, 'E_EX_out': 0.25242225503432486, 'L_EX_out': 1.0426415549465147, 'M_EX_out': 0.13688962694261023, 'N_EX_out': 0.15456477226111714, 'P_EX_out': 0.30155857350084053}, {'A_in': 1.0, 'R1': 0.5251974545040162, 'R2': 0.525197454504019, 'R3': 0.5251974545040194, 'R4': -2.4927303477748803e-15, 'R5': 0.4817579909410015, 'R6': -0.006955445445021193, 'R7': 0.2249987669912811, 'R8': 0.0035901250383802504, 'R9': 0.47480254549598144, 'R10': 0.5251974545040194, 'R11': 0.22499876699127705, 'R12': -0.006955445445021626, 'R13': 0.006955445445021653, 'R14': -0.22140864195289695, 'E_EX_out': 0.3001986875127412, 'L_EX_out': 0.23195421243629757, 'M_EX_out': 0.48512331134764514, 'N_EX_out': 0.0035901250383826603, 'P_EX_out': 0.20749775106285534}, {'A_in': 1.0, 'R1': 0.6851794827310481, 'R2': 0.685179482731048, 'R3': 0.6851794827310461, 'R4': -1.3323247462909143e-15, 'R5': 0.3942844875877328, 'R6': -0.07946397031878157, 'R7': 0.40616740183974404, 'R8': 0.15999310218663337, 'R9': 0.31482051726895444, 'R10': 0.6851794827310461, 'R11': 0.4061674018397418, 'R12': -0.0794639703187817, 'R13': 0.07946397031878182, 'R14': -0.24617429965310836, 'E_EX_out': 0.27901208089130347, 'L_EX_out': 0.48563137215852525, 'M_EX_out': 0.3137553557198859, 'N_EX_out': 0.15999310218663493, 'P_EX_out': 0.08724635901554424}, {'A_in': 1.0, 'R1': 1.8877842509891212, 'R2': 1.887784250989117, 'R3': 1.8877842509891114, 'R4': -2.5848030256527484e-15, 'R5': -0.3454350835169661, 'R6': -0.5423491674721587, 'R7': 1.422817434182377, 'R8': 0.052970595545217936, 'R9': -0.887784250989111, 'R10': 1.8877842509891114, 'R11': 1.422817434182371, 'R12': -0.5423491674721587, 'R13': 0.5423491674721597, 'R14': -1.3698468386371523, 'E_EX_out': 0.4649668168067388, 'L_EX_out': 1.9651666016545368, 'M_EX_out': 0.14394348840999271, 'N_EX_out': 0.05297059554522163, 'P_EX_out': 0.28514850369283223}, {'A_in': 1.0, 'R1': 0.7281855540014617, 'R2': 0.7281855540014616, 'R3': 0.7281855540014573, 'R4': -3.681954552951439e-15, 'R5': 0.5446560364146721, 'R6': -0.2728415904161358, 'R7': 0.7252002248139812, 'R8': 0.0018671038424544837, 'R9': 0.27181444599854343, 'R10': 0.7281855540014573, 'R11': 0.7252002248139768, 'R12': -0.27284159041613587, 'R13': 0.27284159041613704, 'R14': -0.7233331209715249, 'E_EX_out': 0.002985329187480354, 'L_EX_out': 0.9980418152301194, 'M_EX_out': 0.8156305229883632, 'N_EX_out': 0.0018671038424565812, 'P_EX_out': 0.17764994013924879}, {'A_in': 1.0, 'R1': 1.4940193375067492, 'R2': 1.494019337506751, 'R3': 1.494019337506746, 'R4': -3.673045632573726e-15, 'R5': 0.08302866017131517, 'R6': -0.5770479976780649, 'R7': 1.2468788162390696, 'R8': 0.08277295629160844, 'R9': -0.49401933750674404, 'R10': 1.494019337506746, 'R11': 1.246878816239066, 'R12': -0.5770479976780654, 'R13': 0.5770479976780667, 'R14': -1.164105859947461, 'E_EX_out': 0.24714052126768, 'L_EX_out': 1.8239268139171385, 'M_EX_out': 0.5773037015577817, 'N_EX_out': 0.08277295629161065, 'P_EX_out': 0.010009864591325999}, {'A_in': 1.0, 'R1': 0.881494411273469, 'R2': 0.881494411273471, 'R3': 0.8814944112734668, 'R4': -2.521681525653321e-15, 'R5': 0.15825994582773525, 'R6': -0.03975435710120458, 'R7': 0.723377395110001, 'R8': 0.03271342186768746, 'R9': 0.11850558872653323, 'R10': 0.8814944112734668, 'R11': 0.723377395109999, 'R12': -0.039754357101204854, 'R13': 0.0397543571012055, 'R14': -0.6906639732423137, 'E_EX_out': 0.15811701616346746, 'L_EX_out': 0.7631317522112093, 'M_EX_out': 0.16530088106125856, 'N_EX_out': 0.03271342186768894, 'P_EX_out': 0.6111552590399015}, {'A_in': 1.0, 'R1': 1.011201184129119, 'R2': 1.0112011841291189, 'R3': 1.0112011841291162, 'R4': -1.9545845779857453e-15, 'R5': 0.1254244698037773, 'R6': -0.1366256539328957, 'R7': 0.5458817728599764, 'R8': 0.059092439531128006, 'R9': -0.011201184129115114, 'R10': 1.0112011841291162, 'R11': 0.5458817728599747, 'R12': -0.13662565393289577, 'R13': 0.13662565393289652, 'R14': -0.4867893333288489, 'E_EX_out': 0.4653194112691405, 'L_EX_out': 0.682507426792875, 'M_EX_out': 0.20295768420555077, 'N_EX_out': 0.05909243953112917, 'P_EX_out': 0.21353802546305464}, {'A_in': 1.0, 'R1': 0.6611950590588934, 'R2': 0.6611950590588902, 'R3': 0.6611950590588881, 'R4': -1.9704290567141964e-15, 'R5': 0.3190738108606454, 'R6': 0.019731130080462653, 'R7': 0.22948263670520816, 'R8': 0.05076080993331732, 'R9': 0.33880494094111463, 'R10': 0.6611950590588881, 'R11': 0.22948263670520558, 'R12': 0.01973113008046292, 'R13': -0.01973113008046207, 'R14': -0.17872182677188964, 'E_EX_out': 0.43171242235367924, 'L_EX_out': 0.20975150662474798, 'M_EX_out': 0.24858187084687194, 'N_EX_out': 0.050760809933318544, 'P_EX_out': 0.21818408693281396}, {'A_in': 1.0, 'R1': 0.39754114747187896, 'R2': 0.3975411474718785, 'R3': 0.3975411474718718, 'R4': -4.2803907807615205e-15, 'R5': 0.6629515823389633, 'R6': -0.060492729810840924, 'R7': 0.37352456148325913, 'R8': 0.2417133353374748, 'R9': 0.602458852528127, 'R10': 0.3975411474718718, 'R11': 0.3735245614832548, 'R12': -0.06049272981084177, 'R13': 0.06049272981084365, 'R14': -0.1318112261457841, 'E_EX_out': 0.02401658598861537, 'L_EX_out': 0.4340172912941043, 'M_EX_out': 0.48173097681234056, 'N_EX_out': 0.24171333533747688, 'P_EX_out': 0.010825766524097148}, {'A_in': 1.0, 'R1': 0.24208342300652191, 'R2': 0.2420834230065233, 'R3': 0.24208342300651706, 'R4': -3.826929532287428e-15, 'R5': 0.6472565152316938, 'R6': 0.1106600617617846, 'R7': 0.21881023514869744, 'R8': 0.08379805045580088, 'R9': 0.7579165769934804, 'R10': 0.24208342300651706, 'R11': 0.21881023514869424, 'R12': 0.11066006176178368, 'R13': -0.11066006176178234, 'R14': -0.13501218469289575, 'E_EX_out': 0.023273187857821724, 'L_EX_out': 0.1081501733869165, 'M_EX_out': 0.45279840301411806, 'N_EX_out': 0.08379805045580331, 'P_EX_out': 0.35633230821646106}, {'A_in': 1.0, 'R1': 0.22721473269141074, 'R2': 0.22721473269141002, 'R3': 0.22721473269140793, 'R4': -2.16789333060417e-15, 'R5': 0.6069624484726297, 'R6': 0.16582281883596128, 'R7': 0.21751504861470594, 'R8': 0.0269382428893793, 'R9': 0.7727852673085939, 'R10': 0.22721473269140793, 'R11': 0.2175150486147048, 'R12': 0.1658228188359608, 'R13': -0.16582281883596042, 'R14': -0.19057680572532387, 'E_EX_out': 0.009699684076700717, 'L_EX_out': 0.05169222977874592, 'M_EX_out': 0.4142013867472931, 'N_EX_out': 0.026938242889380872, 'P_EX_out': 0.5222224433972451}, {'A_in': 1.0, 'R1': 0.8101097811413885, 'R2': 0.8101097811413883, 'R3': 0.8101097811413859, 'R4': -5.3440729184307635e-15, 'R5': 0.4927057203328772, 'R6': -0.30281550147426317, 'R7': 0.7564386618218432, 'R8': 0.051001522223931735, 'R9': 0.18989021885862062, 'R10': 0.8101097811413859, 'R11': 0.7564386618218413, 'R12': -0.30281550147426556, 'R13': 0.3028155014742671, 'R14': -0.705437139597907, 'E_EX_out': 0.053671119319536886, 'L_EX_out': 1.0592541632961108, 'M_EX_out': 0.7445196995832203, 'N_EX_out': 0.05100152222393503, 'P_EX_out': 0.09980613664937243}, {'A_in': 1.0, 'R1': 0.4051643316269606, 'R2': 0.40516433162696175, 'R3': 0.40516433162695725, 'R4': -4.3393011527873555e-15, 'R5': 0.5511735424983676, 'R6': 0.043662125874674385, 'R7': 0.39679825387844, 'R8': 0.047983700705734114, 'R9': 0.5948356683730454, 'R10': 0.40516433162695725, 'R11': 0.3967982538784366, 'R12': 0.04366212587467271, 'R13': -0.04366212587467062, 'R14': -0.34881455317270293, 'E_EX_out': 0.008366077748515237, 'L_EX_out': 0.35313612800377003, 'M_EX_out': 0.45952771591797176, 'N_EX_out': 0.04798370070573726, 'P_EX_out': 0.43613880492204415}, {'A_in': 1.0, 'R1': 1.5884597737777921, 'R2': 1.5884597737777997, 'R3': 1.5884597737777801, 'R4': -1.1843381650059875e-14, 'R5': -0.1442706883268176, 'R6': -0.44418908545096963, 'R7': 1.5868469406477703, 'R8': 0.21935379475194866, 'R9': -0.5884597737777828, 'R10': 1.5884597737777801, 'R11': 1.5868469406477619, 'R12': -0.44418908545097385, 'R13': 0.44418908545097807, 'R14': -1.367493145895811, 'E_EX_out': 0.001612833130011187, 'L_EX_out': 2.0310360260987483, 'M_EX_out': 0.0805646023722302, 'N_EX_out': 0.21935379475195826, 'P_EX_out': 0.47911497499385747}, {'A_in': 1.0, 'R1': 0.3600768012820155, 'R2': 0.3600768012820169, 'R3': 0.3600768012820127, 'R4': -2.86887864794506e-15, 'R5': 0.46729312592118427, 'R6': 0.1726300727968017, 'R7': 0.34450487508015937, 'R8': 0.27795205415633445, 'R9': 0.6399231987179868, 'R10': 0.3600768012820127, 'R11': 0.3445048750801575, 'R12': 0.1726300727968, 'R13': -0.17263007279679868, 'R14': -0.06655282092382359, 'E_EX_out': 0.015571926201853208, 'L_EX_out': 0.17187480228336105, 'M_EX_out': 0.01671099896805608, 'N_EX_out': 0.27795205415633645, 'P_EX_out': 0.41181296651742144}, {'A_in': 1.0, 'R1': 0.7585046199992027, 'R2': 0.7585046199992032, 'R3': 0.7585046199991987, 'R4': -2.480320666888319e-15, 'R5': 0.34122118147455993, 'R6': -0.09972580147375978, 'R7': 0.7485260719493472, 'R8': 0.267461975122821, 'R9': 0.24149538000080087, 'R10': 0.7585046199991987, 'R11': 0.748526071949346, 'R12': -0.09972580147376159, 'R13': 0.09972580147376292, 'R14': -0.4810640968265246, 'E_EX_out': 0.009978548049850954, 'L_EX_out': 0.8482518734231099, 'M_EX_out': 0.17348500782550624, 'N_EX_out': 0.26746197512282355, 'P_EX_out': 0.28161249387899906}]\n"
     ]
    }
   ],
   "source": [
    "synth_data_internal42 = create_synthetic_datapoints_internal(model_data_gen, 20, \"A_in\")\n",
    "\n",
    "print(synth_data_internal42)"
   ]
  },
  {
   "cell_type": "code",
   "execution_count": 105,
   "id": "96b0927b",
   "metadata": {},
   "outputs": [],
   "source": [
    "random.seed(17)\n",
    "np.random.seed(17)"
   ]
  },
  {
   "cell_type": "code",
   "execution_count": 106,
   "id": "d9f3ee09",
   "metadata": {},
   "outputs": [
    {
     "name": "stdout",
     "output_type": "stream",
     "text": [
      "[<Reaction A_in at 0x16fa50710>, <Reaction R1 at 0x16fa51150>, <Reaction R2 at 0x16fa50990>, <Reaction R3 at 0x16fa51b90>, <Reaction R4 at 0x16fa51f10>, <Reaction R5 at 0x16fa53090>, <Reaction R6 at 0x16fa53890>, <Reaction R8 at 0x16fa53a90>, <Reaction R10 at 0x16fa51010>, <Reaction R11 at 0x16fa50150>, <Reaction R12 at 0x16fa51c90>, <Reaction R13 at 0x16fa53390>, <Reaction R14 at 0x16fa51f50>, <Reaction E_EX_out at 0x16fa51e10>, <Reaction L_EX_out at 0x16fa514d0>, <Reaction M_EX_out at 0x16fa51410>, <Reaction N_EX_out at 0x16fa50590>, <Reaction P_EX_out at 0x16fa52210>]\n",
      "Number of subsets with adequate scores: (14, 14)\n"
     ]
    }
   ],
   "source": [
    "num_adequate_subsets_internal17 = evaluate_reaction_subsets(model, synth_data_internal42, test_random_reacs, 2)\n",
    "print(f\"Number of subsets with adequate scores: {num_adequate_subsets_internal17}\")"
   ]
  },
  {
   "cell_type": "code",
   "execution_count": 107,
   "id": "00f78a94",
   "metadata": {},
   "outputs": [],
   "source": [
    "random.seed(23)\n",
    "np.random.seed(23)"
   ]
  },
  {
   "cell_type": "code",
   "execution_count": 108,
   "id": "91e9ce7c",
   "metadata": {
    "scrolled": true
   },
   "outputs": [
    {
     "name": "stdout",
     "output_type": "stream",
     "text": [
      "[<Reaction A_in at 0x16fca1510>, <Reaction R1 at 0x16fca1d90>, <Reaction R2 at 0x16fca3190>, <Reaction R3 at 0x16fca2390>, <Reaction R4 at 0x16fca0c90>, <Reaction R6 at 0x16fca1210>, <Reaction R7 at 0x16fca2190>, <Reaction R8 at 0x16fca1850>, <Reaction R9 at 0x16fca2c50>, <Reaction R10 at 0x16fca06d0>, <Reaction R11 at 0x16fca3cd0>, <Reaction R12 at 0x16fca0550>, <Reaction R14 at 0x1593c0450>, <Reaction E_EX_out at 0x299ab3350>, <Reaction L_EX_out at 0x299ab3090>, <Reaction M_EX_out at 0x299ab2790>, <Reaction N_EX_out at 0x299ab0190>, <Reaction P_EX_out at 0x299ab0d50>]\n",
      "Number of subsets with adequate scores: (13, 13)\n"
     ]
    }
   ],
   "source": [
    "num_adequate_subsets_internal23 = evaluate_reaction_subsets(model, synth_data_internal42, test_random_reacs, 2)\n",
    "print(f\"Number of subsets with adequate scores: {num_adequate_subsets_internal23}\")"
   ]
  },
  {
   "cell_type": "code",
   "execution_count": null,
   "id": "9801ee46",
   "metadata": {},
   "outputs": [],
   "source": []
  }
 ],
 "metadata": {
  "kernelspec": {
   "display_name": "Python 3 (ipykernel)",
   "language": "python",
   "name": "python3"
  },
  "language_info": {
   "codemirror_mode": {
    "name": "ipython",
    "version": 3
   },
   "file_extension": ".py",
   "mimetype": "text/x-python",
   "name": "python",
   "nbconvert_exporter": "python",
   "pygments_lexer": "ipython3",
   "version": "3.11.5"
  }
 },
 "nbformat": 4,
 "nbformat_minor": 5
}
